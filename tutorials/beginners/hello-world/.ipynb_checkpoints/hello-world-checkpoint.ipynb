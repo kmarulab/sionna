{
 "cells": [
  {
   "cell_type": "code",
   "execution_count": 2,
   "id": "10ce929e-c330-4c57-bb5e-4d034afe4c03",
   "metadata": {},
   "outputs": [
    {
     "name": "stdout",
     "output_type": "stream",
     "text": [
      "tf.Tensor(\n",
      "[[0. 1. 1. 1.]\n",
      " [0. 0. 1. 0.]\n",
      " [1. 0. 0. 0.]\n",
      " ...\n",
      " [1. 0. 0. 0.]\n",
      " [1. 0. 0. 1.]\n",
      " [1. 0. 0. 1.]], shape=(1000, 4), dtype=float32)\n"
     ]
    }
   ],
   "source": [
    "import os\n",
    "if os.getenv(\"CUDA_VISIBLE_DEVICES\") is None:\n",
    "    gpu_num = 0 # Use \"\" to use the CPU\n",
    "    os.environ[\"CUDA_VISIBLE_DEVICES\"] = f\"{gpu_num}\"\n",
    "os.environ['TF_CPP_MIN_LOG_LEVEL'] = '3'\n",
    "\n",
    "import sionna.phy\n",
    "import matplotlib.pyplot\n",
    "\n",
    "batch_size = 1000\n",
    "Bits = 4\n",
    "binary_source = sionna.phy.mapping.BinarySource()\n",
    "b = binary_source([batch_size, Bits])\n",
    "constellation = sionna.phy.mapping.Constellation(\"qam\",Bits)\n",
    "constellation.show()"
   ]
  },
  {
   "cell_type": "code",
   "execution_count": 4,
   "id": "544de950-869b-4c8d-b0bf-5395e037582f",
   "metadata": {},
   "outputs": [
    {
     "data": {
      "text/plain": [
       "TensorShape([1000, 1])"
      ]
     },
     "execution_count": 4,
     "metadata": {},
     "output_type": "execute_result"
    }
   ],
   "source": [
    "mapper = sionna.phy.mapping.Mapper(constellation=constellation)\n",
    "x = mapper(b)"
   ]
  }
 ],
 "metadata": {
  "kernelspec": {
   "display_name": "Python 3 (ipykernel)",
   "language": "python",
   "name": "python3"
  },
  "language_info": {
   "codemirror_mode": {
    "name": "ipython",
    "version": 3
   },
   "file_extension": ".py",
   "mimetype": "text/x-python",
   "name": "python",
   "nbconvert_exporter": "python",
   "pygments_lexer": "ipython3",
   "version": "3.12.3"
  }
 },
 "nbformat": 4,
 "nbformat_minor": 5
}
